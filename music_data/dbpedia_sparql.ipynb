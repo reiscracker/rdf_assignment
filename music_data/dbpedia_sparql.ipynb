{
 "cells": [
  {
   "cell_type": "markdown",
   "metadata": {},
   "source": [
    "# Playing around with some sparql endpoints and python"
   ]
  },
  {
   "cell_type": "code",
   "execution_count": 1,
   "metadata": {
    "collapsed": true
   },
   "outputs": [],
   "source": [
    "from SPARQLWrapper import SPARQLWrapper, JSON"
   ]
  },
  {
   "cell_type": "markdown",
   "metadata": {},
   "source": [
    "## Simple query on dbpedia for testing purposes"
   ]
  },
  {
   "cell_type": "code",
   "execution_count": 2,
   "metadata": {
    "collapsed": false
   },
   "outputs": [],
   "source": [
    "endpoint = \"http://dbpedia.org/sparql\"\n",
    "dbpedia_default_graph = \"http://dbpedia.org\"\n",
    "sparql = SPARQLWrapper(endpoint)\n",
    "sparql.setReturnFormat(JSON)"
   ]
  },
  {
   "cell_type": "code",
   "execution_count": 3,
   "metadata": {
    "collapsed": true
   },
   "outputs": [],
   "source": [
    "# add a default graph, though that can also be part of the query string\n",
    "sparql.addDefaultGraph(dbpedia_default_graph)\n",
    "\n",
    "# First, the simplest possible query to see if everything's working\n",
    "queryString = \"SELECT * WHERE { ?s ?p ?o. } LIMIT 3\"\n",
    "sparql.setQuery(queryString)\n",
    "try :\n",
    "       result = sparql.query() # result is a stream with the results normally in XML, but we set it to JSON\n",
    "except :\n",
    "        print(\"Could not query!\")\n",
    "\n",
    "result = result.convert()"
   ]
  },
  {
   "cell_type": "code",
   "execution_count": 4,
   "metadata": {
    "collapsed": false
   },
   "outputs": [
    {
     "data": {
      "text/plain": [
       "{u'head': {u'link': [], u'vars': [u's', u'p', u'o']},\n",
       " u'results': {u'bindings': [{u'o': {u'type': u'uri',\n",
       "     u'value': u'http://www.w3.org/2002/07/owl#FunctionalProperty'},\n",
       "    u'p': {u'type': u'uri',\n",
       "     u'value': u'http://www.w3.org/1999/02/22-rdf-syntax-ns#type'},\n",
       "    u's': {u'type': u'uri',\n",
       "     u'value': u'http://dbpedia.org/ontology/deathDate'}},\n",
       "   {u'o': {u'type': u'uri',\n",
       "     u'value': u'http://www.w3.org/2002/07/owl#FunctionalProperty'},\n",
       "    u'p': {u'type': u'uri',\n",
       "     u'value': u'http://www.w3.org/1999/02/22-rdf-syntax-ns#type'},\n",
       "    u's': {u'type': u'uri',\n",
       "     u'value': u'http://dbpedia.org/ontology/birthDate'}},\n",
       "   {u'o': {u'type': u'uri',\n",
       "     u'value': u'http://www.w3.org/2002/07/owl#FunctionalProperty'},\n",
       "    u'p': {u'type': u'uri',\n",
       "     u'value': u'http://www.w3.org/1999/02/22-rdf-syntax-ns#type'},\n",
       "    u's': {u'type': u'uri',\n",
       "     u'value': u'http://dbpedia.org/ontology/acceleration'}}],\n",
       "  u'distinct': False,\n",
       "  u'ordered': True}}"
      ]
     },
     "execution_count": 4,
     "metadata": {},
     "output_type": "execute_result"
    }
   ],
   "source": [
    "result"
   ]
  },
  {
   "cell_type": "markdown",
   "metadata": {},
   "source": [
    "## Now supposedly this is simpler when using SPARQLWrapper2 Oo"
   ]
  },
  {
   "cell_type": "code",
   "execution_count": 5,
   "metadata": {
    "collapsed": false
   },
   "outputs": [
    {
     "name": "stdout",
     "output_type": "stream",
     "text": [
      "s: http://dbpedia.org/ontology/deathDate\tp: http://www.w3.org/1999/02/22-rdf-syntax-ns#type\to: http://www.w3.org/2002/07/owl#FunctionalProperty\n",
      "s.type == uri, \t p.type == uri, \t o.type == uri\n",
      "s: http://dbpedia.org/ontology/birthDate\tp: http://www.w3.org/1999/02/22-rdf-syntax-ns#type\to: http://www.w3.org/2002/07/owl#FunctionalProperty\n",
      "s.type == uri, \t p.type == uri, \t o.type == uri\n",
      "s: http://dbpedia.org/ontology/acceleration\tp: http://www.w3.org/1999/02/22-rdf-syntax-ns#type\to: http://www.w3.org/2002/07/owl#FunctionalProperty\n",
      "s.type == uri, \t p.type == uri, \t o.type == uri\n"
     ]
    }
   ],
   "source": [
    "from SPARQLWrapper import SPARQLWrapper2\n",
    "\n",
    "# SPARQLWrapper2 automatically uses JSON, so no need to set a return format\n",
    "sparql = SPARQLWrapper2(endpoint)\n",
    "\n",
    "queryString = \"SELECT ?subj ?prop ?obj FROM <%s> WHERE { ?subj ?prop ?obj. } LIMIT 3\" % dbpedia_default_graph\n",
    "sparql.setQuery(queryString)\n",
    "\n",
    "try :\n",
    "    result = sparql.query()\n",
    "    #print result.variables  # this is an array consisting of \"subj\" and \"prop\"\n",
    "    for binding in result.bindings :\n",
    "        # each binding is a dictionary. Let us just print the results\n",
    "        print(\"s: {subj}\\tp: {prop}\\to: {obj}\".format(subj=binding[u\"subj\"].value, prop=binding[u\"prop\"].value, obj=binding[u\"obj\"].value))\n",
    "        print(\"s.type == %s, \\t p.type == %s, \\t o.type == %s\" % (binding[u\"subj\"].type, binding[u\"prop\"].type, binding[u\"obj\"].type))\n",
    "        #print \"%s: %s (of type %s)\" % (\"s\",binding[u\"subj\"].value,binding[u\"subj\"].type)\n",
    "        #print \"%s: %s (of type %s)\" % (\"p\",binding[u\"prop\"].value,binding[u\"prop\"].type)\n",
    "    \n",
    "except:\n",
    "    print(\"Could not query!\")"
   ]
  },
  {
   "cell_type": "markdown",
   "metadata": {},
   "source": [
    "## OPTIONAL in SPARQL with usage of [] and in"
   ]
  },
  {
   "cell_type": "code",
   "execution_count": 6,
   "metadata": {
    "collapsed": false
   },
   "outputs": [
    {
     "name": "stdout",
     "output_type": "stream",
     "text": [
      "[u'subj', u'o', u'opt']\n"
     ]
    }
   ],
   "source": [
    "sparql.addDefaultGraph(dbpedia_default_graph)\n",
    "queryString = \"SELECT ?subj ?o ?opt WHERE { ?subj ?o ?x } LIMIT 3\"\n",
    "sparql.setQuery(queryString)\n",
    "\n",
    "try:\n",
    "    result = sparql.query()\n",
    "    print(result.variables)\n",
    "    # Now if \"opt\" has a value as well, there had to be an optional match\n",
    "    if (u\"subj\", u\"o\", u\"opt\") in result:\n",
    "        bindings = result[u\"subj\",u\"o\",u\"opt\"]\n",
    "        # bindings is an array of dictionaries with the full bindings\n",
    "        for b in bindings :\n",
    "                subj = b[u\"subj\"].value\n",
    "                o    = b[u\"o\"].value\n",
    "                opt  = b[u\"opt\"].value\n",
    "                print(\"%s \\t %s \\t %s\" % (subj, o, opt))\n",
    "                # do something nice with subj, o, and opt\n",
    "        # another way of accessing to values for a single variable:\n",
    "        # take all the bindings of the \"subj\"\n",
    "        subjbind = result.getValues(u\"subj\") # an array of Value instances\n",
    "        \n",
    "except:\n",
    "    print(\"Could not query!\")\n"
   ]
  },
  {
   "cell_type": "code",
   "execution_count": null,
   "metadata": {
    "collapsed": true
   },
   "outputs": [],
   "source": []
  },
  {
   "cell_type": "markdown",
   "metadata": {
    "collapsed": true
   },
   "source": [
    "# MusicBrainz dataset"
   ]
  },
  {
   "cell_type": "code",
   "execution_count": 7,
   "metadata": {
    "collapsed": true
   },
   "outputs": [],
   "source": [
    "endpoint = 'http://linkedbrainz.org/sparql'\n",
    "sparql = SPARQLWrapper2(endpoint)\n",
    "# Looked like they had no default graph Oo i dont really get that concept\n",
    "#sparql.addDefaultGraph()"
   ]
  },
  {
   "cell_type": "markdown",
   "metadata": {},
   "source": [
    "## Find members of Manowar! Metal!1"
   ]
  },
  {
   "cell_type": "code",
   "execution_count": 8,
   "metadata": {
    "collapsed": false
   },
   "outputs": [
    {
     "name": "stdout",
     "output_type": "stream",
     "text": [
      "Folgende Variablen sind belegt:\n",
      "[u'name', u'member']\n",
      "Karl Logan ( http://musicbrainz.org/artist/82fe4a25-5cc1-4e6e-ac93-0bd8efbb0cc5#_ ) is member of Manowar!!1\n",
      "Eric Adams ( http://musicbrainz.org/artist/4c96a93c-85ab-4aaa-83f2-bd1ad759e63b#_ ) is member of Manowar!!1\n",
      "Joey DeMaio ( http://musicbrainz.org/artist/7db07923-17d5-4353-80e8-f3fed7977576#_ ) is member of Manowar!!1\n"
     ]
    }
   ],
   "source": [
    "query = \"\"\" \n",
    "PREFIX mo: <http://purl.org/ontology/mo/>\n",
    "PREFIX foaf: <http://xmlns.com/foaf/0.1/>\n",
    "\n",
    "SELECT ?name ?member\n",
    "WHERE {\n",
    "  ?member foaf:name ?name ;\n",
    "          mo:member_of ?band .\n",
    "  ?band foaf:name \"Manowar\"\n",
    "}\n",
    "\"\"\"\n",
    "#query = \"SELECT ?a ?b ?c WHERE { ?a ?b ?c } LIMIT 3\"\n",
    "sparql.setQuery(query)\n",
    "\n",
    "try:\n",
    "    result = sparql.query()\n",
    "    print(\"Folgende Variablen sind belegt:\")\n",
    "    print(result.variables)\n",
    "    for binding in result[u\"name\", u\"member\"]:\n",
    "        print(\"%s ( %s ) is member of Manowar!!1\" % (binding[u\"name\"].value, binding[u\"member\"].value))\n",
    "        \n",
    "except:\n",
    "    print(\"Could not query!\")"
   ]
  },
  {
   "cell_type": "markdown",
   "metadata": {},
   "source": [
    "## Find albums of manowar!"
   ]
  },
  {
   "cell_type": "code",
   "execution_count": 9,
   "metadata": {
    "collapsed": false
   },
   "outputs": [
    {
     "name": "stdout",
     "output_type": "stream",
     "text": [
      "Manowar made: 1999-12-04: Moscow, Russia ( http://musicbrainz.org/signal-group/180ba167-1c61-3cfb-8b64-66c8287a9e17#_ )\n",
      "Manowar made: 2002-12-14: War of the World: Ballsporthalle, Frankfurt, Germany ( http://musicbrainz.org/signal-group/d50af78f-0d0e-34e5-a046-e5e80d2716a5#_ )\n",
      "Manowar made: An American Trilogy / The Fight for Freedom ( http://musicbrainz.org/signal-group/aa76c495-b835-3d36-bc04-9eac020184cf#_ )\n",
      "Manowar made: Anthology ( http://musicbrainz.org/signal-group/c917754f-e829-39e2-8d84-f42d83a24f05#_ )\n",
      "Manowar made: Battle Hymns ( http://musicbrainz.org/signal-group/1d3fb509-0f93-3d67-9e2a-0d5de5786c7f#_ )\n",
      "Manowar made: Battle Hymns / Sign of the Hammer ( http://musicbrainz.org/signal-group/38ac595d-5c2a-37fd-a36e-35a0a7a3ceeb#_ )\n",
      "Manowar made: Battle Hymns MMXI ( http://musicbrainz.org/signal-group/f8c18a60-ce65-44e0-828f-11eef7e7f3b0#_ )\n",
      "Manowar made: Best Collection ( http://musicbrainz.org/signal-group/c13e3530-a338-3abb-b283-847f1293cd52#_ )\n",
      "Manowar made: Blow Up Your Speakers ( http://musicbrainz.org/signal-group/291d8409-5ab2-4583-b670-faf969e4bd42#_ )\n",
      "Manowar made: CH 84 ( http://musicbrainz.org/signal-group/68637f89-0500-353f-9752-437a10356409#_ )\n",
      "Manowar made: Courage ( http://musicbrainz.org/signal-group/921201db-fb5c-34a8-9959-cdcf4c43d837#_ )\n",
      "Manowar made: Defender ( http://musicbrainz.org/signal-group/0c77dbd2-5219-3ca9-b3c1-ac8777016eb2#_ )\n",
      "Manowar made: Demo - 81 ( http://musicbrainz.org/signal-group/99fcfd6c-477f-489d-aeaa-8b96e30b420e#_ )\n",
      "Manowar made: Die With Honor ( http://musicbrainz.org/signal-group/b70f8f08-e417-3104-b230-18c438a74f1f#_ )\n",
      "Manowar made: Fighting the World ( http://musicbrainz.org/signal-group/1881d658-2011-3865-ad9c-94e5f94a6e2c#_ )\n",
      "Manowar made: Fighting the World / Kings of Metal ( http://musicbrainz.org/signal-group/43be33c1-a8f1-420d-aff5-02d5c1821823#_ )\n",
      "Manowar made: Gods of War ( http://musicbrainz.org/signal-group/43b2602a-302b-3dde-ab57-3e2188bfd81b#_ )\n",
      "Manowar made: Gods of War Live ( http://musicbrainz.org/signal-group/65b257e5-a75f-3ee5-b4c3-ace196f117d2#_ )\n",
      "Manowar made: Hail to England ( http://musicbrainz.org/signal-group/3920f3dd-1079-3981-ad81-a70a5cef6a07#_ )\n",
      "Manowar made: Hell on Stage Live ( http://musicbrainz.org/signal-group/14c2c375-8434-3096-8c1f-88a635709385#_ )\n",
      "Manowar made: Hell on Wheels: Live ( http://musicbrainz.org/signal-group/fdf910c6-3229-3269-b770-8aa31628389c#_ )\n",
      "Manowar made: Herz aus Stahl ( http://musicbrainz.org/signal-group/6204ef60-3d3b-3386-b2a5-47a26215aa65#_ )\n",
      "Manowar made: Into Glory Ride ( http://musicbrainz.org/signal-group/6492f229-21f1-3227-8ab7-f208cd4ba440#_ )\n",
      "Manowar made: Into Glory Ride / Hail to England ( http://musicbrainz.org/signal-group/772b0c26-c95f-332a-8e3e-95b9f75ee85c#_ )\n",
      "Manowar made: King of Kings ( http://musicbrainz.org/signal-group/22e32c91-19b8-3854-8558-f8dd64168971#_ )\n",
      "Manowar made: Kings Of Metal / Herz Aus Stahl ( http://musicbrainz.org/signal-group/93b7d8a1-fc69-434b-a8ba-160d4b56866b#_ )\n",
      "Manowar made: Kings of Metal ( http://musicbrainz.org/signal-group/8f4ab01b-de0c-37ec-9d1a-5c2adf9977d7#_ )\n",
      "Manowar made: Live U.S.A. ( http://musicbrainz.org/signal-group/6622a1c1-8cbd-42a8-9685-615b4777f1d4#_ )\n",
      "Manowar made: Live at Earthshaker Fest ( http://musicbrainz.org/signal-group/61a17b62-a1b2-46c8-a132-cb6ae03090ad#_ )\n",
      "Manowar made: Live in France ( http://musicbrainz.org/signal-group/e5bf858d-e2ac-3c8b-a494-98eeff49cbec#_ )\n",
      "Manowar made: Live in Germany ( http://musicbrainz.org/signal-group/c46ee841-1a64-37ad-b8d8-964b1306466c#_ )\n",
      "Manowar made: Live in Portugal ( http://musicbrainz.org/signal-group/71b7f497-804e-35e5-b6c1-bf838d9e0276#_ )\n",
      "Manowar made: Live in Spain ( http://musicbrainz.org/signal-group/b7e41c13-ea2b-420f-9ea0-40968ef41aa9#_ )\n",
      "Manowar made: Louder Than Hell ( http://musicbrainz.org/signal-group/3d8aa989-eb42-327e-bfb6-0a3240f7fbad#_ )\n",
      "Manowar made: Manowar Kills ( http://musicbrainz.org/signal-group/5a65f621-3c8f-41cd-a5b8-bbf5c9894100#_ )\n",
      "Manowar made: Metal Warriors ( http://musicbrainz.org/signal-group/a98d0886-47af-46a8-88f9-bc9985e1ab8a#_ )\n",
      "Manowar made: Number 1 ( http://musicbrainz.org/signal-group/f485cb37-7849-3c27-a7d6-edc44f66226d#_ )\n",
      "Manowar made: Return of the Warlord ( http://musicbrainz.org/signal-group/e6b4f2e4-68b7-329b-be08-3ebbf555899f#_ )\n",
      "Manowar made: Sign of the Hammer ( http://musicbrainz.org/signal-group/c82db0df-6cef-3f4e-8ccf-16e000821893#_ )\n",
      "Manowar made: Steel Warriors ( http://musicbrainz.org/signal-group/eea96f74-5828-3b4b-9a5f-9769ddd969ce#_ )\n",
      "Manowar made: The Absolute Power ( http://musicbrainz.org/signal-group/a0985302-169b-48c1-b6d9-89f4ccfb151d#_ )\n",
      "Manowar made: The Dawn of Battle ( http://musicbrainz.org/signal-group/f734aeee-8936-37e4-a1cb-55a693783e55#_ )\n",
      "Manowar made: The Hell of Steel ( http://musicbrainz.org/signal-group/c5de93ff-94ea-3154-b967-591369959f57#_ )\n",
      "Manowar made: The Kingdom of Steel: Best of ( http://musicbrainz.org/signal-group/54a7c9ee-6bc6-3dda-819e-3aff79a6a80e#_ )\n",
      "Manowar made: The Lord of Steel ( http://musicbrainz.org/signal-group/ecf6df7a-2677-446e-bfc4-ed2eb9751d58#_ )\n",
      "Manowar made: The Sons of Odin ( http://musicbrainz.org/signal-group/42776f8b-e352-3bf2-854b-e35cface270d#_ )\n",
      "Manowar made: The Triumph of Steel ( http://musicbrainz.org/signal-group/a5c6c993-0869-3fb6-a365-10cca7b64a21#_ )\n",
      "Manowar made: Thunder in the Sky ( http://musicbrainz.org/signal-group/e8defbc9-750a-4404-9677-b092dc95ba7b#_ )\n",
      "Manowar made: Warriors Of The World United ( http://musicbrainz.org/signal-group/fd1221c2-381a-433e-a62b-334c950ebf26#_ )\n",
      "Manowar made: Warriors of the World ( http://musicbrainz.org/signal-group/8425693a-ebf4-34cc-ac26-8fab81834ad2#_ )\n",
      "Manowar made: Warriors of the World United ( http://musicbrainz.org/signal-group/074831c6-1c0d-3303-bd57-257017bad5e4#_ )\n",
      "Manowar made: Warriors of the World United ( http://musicbrainz.org/signal-group/15f20804-07e2-3468-808b-a84d5013d4c2#_ )\n"
     ]
    }
   ],
   "source": [
    "query = \"\"\"\n",
    "PREFIX mo: <http://purl.org/ontology/mo/>\n",
    "PREFIX foaf: <http://xmlns.com/foaf/0.1/>\n",
    "PREFIX dc: <http://purl.org/dc/elements/1.1/>\n",
    "\n",
    "SELECT (STR(?title) AS ?stitle) ?album\n",
    "WHERE {?band foaf:name \"Manowar\" ;\n",
    "             foaf:made ?album .\n",
    "       ?album a mo:SignalGroup ;\n",
    "              dc:title ?title}\n",
    "ORDER BY ?title\n",
    "\"\"\"\n",
    "sparql.setQuery(query)\n",
    "\n",
    "try:\n",
    "    result = sparql.query()\n",
    "    \n",
    "    titles = result.getValues(u\"stitle\")\n",
    "    albums = result.getValues(u\"album\")\n",
    "    for (t,a) in zip(titles, albums):\n",
    "        print(\"Manowar made: %s ( %s )\" % (t.value, a.value))\n",
    "        \n",
    "except:\n",
    "    print(\"Could not query!\")"
   ]
  },
  {
   "cell_type": "markdown",
   "metadata": {},
   "source": [
    "## Duration of Slayer Albums in minutes"
   ]
  },
  {
   "cell_type": "code",
   "execution_count": null,
   "metadata": {
    "collapsed": true
   },
   "outputs": [],
   "source": [
    "query = \"\"\"\n",
    "PREFIX mo: <http://purl.org/ontology/mo/>\n",
    "PREFIX foaf: <http://xmlns.com/foaf/0.1/>\n",
    "PREFIX dc: <http://purl.org/dc/elements/1.1/>\n",
    "PREFIX event: <http://purl.org/NET/c4dm/event.owl#>\n",
    "\n",
    "\n",
    "SELECT DISTINCT (STR(?album_title) AS ?title) ?duration (SAMPLE(?release) AS ?example)\n",
    "WHERE {?album dc:title ?album_title .\n",
    "       ?release event:factor ?album ;\n",
    "                mo:record ?record .\n",
    "{SELECT ?record ((SUM(?track_duration) / 60000) AS ?duration)\n",
    " WHERE { ?record mo:track ?track .\n",
    "         ?band foaf:made ?track ;\n",
    "               foaf:name \"Slayer\" .\n",
    "         ?track mo:duration ?track_duration\n",
    "} GROUP BY ?record}\n",
    "} ORDER BY DESC(?duration)\n",
    "\"\"\""
   ]
  },
  {
   "cell_type": "code",
   "execution_count": 31,
   "metadata": {
    "collapsed": true
   },
   "outputs": [],
   "source": [
    "query = \"\"\"\n",
    "PREFIX mo: <http://purl.org/ontology/mo/>\n",
    "PREFIX foaf: <http://xmlns.com/foaf/0.1/>\n",
    "PREFIX dc: <http://purl.org/dc/elements/1.1/>\n",
    "PREFIX event: <http://purl.org/NET/c4dm/event.owl#>\n",
    "\n",
    "SELECT DISTINCT (STR(?album_title) AS ?title) ?duration (SAMPLE(?release) AS ?example)\n",
    "WHERE { \n",
    "    ?album dc:title ?album_title .\n",
    "    ?release event:factor ?album ;\n",
    "                mo:record ?record .\n",
    "    {SELECT ?record ((SUM(?track_duration) / 60000) AS ?duration)\n",
    "    WHERE { \n",
    "        ?record mo:track ?track .\n",
    "        ?band foaf:made ?track ;\n",
    "            foaf:name \"Slayer\" .\n",
    "        ?track mo:duration ?track_duration\n",
    "    } GROUP BY ?record\n",
    "}\n",
    "} ORDER BY DESC(?duration)\n",
    "\"\"\""
   ]
  },
  {
   "cell_type": "code",
   "execution_count": 33,
   "metadata": {
    "collapsed": true
   },
   "outputs": [
    {
     "name": "stdout",
     "output_type": "stream",
     "text": [
      "Slayers album 2007-06-02: Rock am Ring, Nürburgring, Germany had a duration of 78 minutes!\n",
      "Slayers album 2001-09-22: Darkness of Christ: Böblingen, Germany had a duration of 77 minutes!\n",
      "Slayers album Soundtrack to the Apocalypse had a duration of 77 minutes!\n",
      "Slayers album 1992-08-22: Angel of Death: Monsters of Rock: Donington Park, Castle Donington, UK had a duration of 76 minutes!\n",
      "Slayers album Soundtrack to the Apocalypse had a duration of 72 minutes!\n",
      "Slayers album The Sickness Within had a duration of 72 minutes!\n",
      "Slayers album Seasons in the Abyss / Reign in Blood had a duration of 71 minutes!\n",
      "Slayers album Soundtrack to the Apocalypse had a duration of 65 minutes!\n",
      "Slayers album 1991-11-22: Dance of the Dead, Paris, France had a duration of 62 minutes!\n",
      "Slayers album Slaughter in the North had a duration of 61 minutes!\n",
      "Slayers album The Big 4: Live From Sofia, Bulgaria had a duration of 61 minutes!\n",
      "Slayers album Captors of Sin had a duration of 60 minutes!\n",
      "Slayers album 1998-06-25: Roskilde Festival, Roskilde, Denmark had a duration of 60 minutes!\n",
      "Slayers album The Big 4: Live From Sofia, Bulgaria had a duration of 60 minutes!\n",
      "Slayers album Show No Mercy had a duration of 59 minutes!\n",
      "Slayers album Hell Awaits had a duration of 59 minutes!\n",
      "Slayers album Ubernoise: The Interview had a duration of 55 minutes!\n",
      "Slayers album Spitting Poison had a duration of 55 minutes!\n",
      "Slayers album Wardance had a duration of 55 minutes!\n",
      "Slayers album Decade of Aggression: Live had a duration of 51 minutes!\n",
      "Slayers album Diabolus in Musica had a duration of 50 minutes!\n",
      "Slayers album From the Mixing Desk 1994 had a duration of 50 minutes!\n",
      "Slayers album Decade of Aggression: Live had a duration of 49 minutes!\n",
      "Slayers album God Hates Us All had a duration of 49 minutes!\n",
      "Slayers album Show No Mercy had a duration of 48 minutes!\n",
      "Slayers album God Hates Us All had a duration of 48 minutes!\n",
      "Slayers album Diabolus in Musica had a duration of 46 minutes!\n",
      "Slayers album Devil's Disciples had a duration of 45 minutes!\n",
      "Slayers album Captors of Sin had a duration of 45 minutes!\n",
      "Slayers album 1992-08-22: Devil's Disciples: Monsters of Rock: Donington Park, Castle Donington, UK had a duration of 45 minutes!\n",
      "Slayers album Rips Up Waldrock had a duration of 44 minutes!\n",
      "Slayers album Hell Awaits had a duration of 44 minutes!\n",
      "Slayers album Show No Mercy had a duration of 44 minutes!\n",
      "Slayers album 1994-11-09: Spirits in Black: London, UK had a duration of 43 minutes!\n",
      "Slayers album Christ Illusion had a duration of 42 minutes!\n",
      "Slayers album Seasons in the Abyss had a duration of 42 minutes!\n",
      "Slayers album God Hates Us All had a duration of 42 minutes!\n",
      "Slayers album Show No Mercy had a duration of 41 minutes!\n",
      "Slayers album Live Undead / Haunting the Chapel had a duration of 40 minutes!\n",
      "Slayers album Diabolus in Musica had a duration of 40 minutes!\n",
      "Slayers album World Painted Blood had a duration of 39 minutes!\n",
      "Slayers album Show No Mercy had a duration of 38 minutes!\n",
      "Slayers album Christ Illusion had a duration of 38 minutes!\n",
      "Slayers album Decade of Aggression: Live had a duration of 38 minutes!\n",
      "Slayers album Hell Awaits had a duration of 37 minutes!\n",
      "Slayers album South of Heaven had a duration of 36 minutes!\n",
      "Slayers album Divine Intervention had a duration of 36 minutes!\n",
      "Slayers album Undisputed Attitude had a duration of 36 minutes!\n",
      "Slayers album Undisputed Attitude had a duration of 35 minutes!\n",
      "Slayers album Show No Mercy had a duration of 35 minutes!\n",
      "Slayers album Nocturnal Spectre (rehearsal) had a duration of 35 minutes!\n",
      "Slayers album Reign in Blood had a duration of 34 minutes!\n",
      "Slayers album Undisputed Attitude had a duration of 33 minutes!\n",
      "Slayers album Praise of Death had a duration of 32 minutes!\n",
      "Slayers album Undisputed Attitude had a duration of 31 minutes!\n",
      "Slayers album Live Undead had a duration of 29 minutes!\n",
      "Slayers album Reign in Blood had a duration of 29 minutes!\n",
      "Slayers album Reign in Blood had a duration of 28 minutes!\n",
      "Slayers album Live Undead had a duration of 28 minutes!\n",
      "Slayers album Dangerous Appetite had a duration of 27 minutes!\n",
      "Slayers album Serenity in Murder: Divine Live! had a duration of 25 minutes!\n",
      "Slayers album Diabolus in Musica had a duration of 25 minutes!\n",
      "Slayers album Show No Mercy had a duration of 23 minutes!\n",
      "Slayers album Live Undead had a duration of 23 minutes!\n",
      "Slayers album Serenity in Murder had a duration of 22 minutes!\n",
      "Slayers album Show No Mercy had a duration of 21 minutes!\n",
      "Slayers album Stain of Mind + 4 Live Tracks had a duration of 20 minutes!\n",
      "Slayers album Serenity in Murder had a duration of 19 minutes!\n",
      "Slayers album Haunting the Chapel had a duration of 16 minutes!\n",
      "Slayers album Serenity in Murder had a duration of 16 minutes!\n",
      "Slayers album Seasons in the Abyss had a duration of 15 minutes!\n",
      "Slayers album Christ Illusion had a duration of 14 minutes!\n",
      "Slayers album The Tour '95 had a duration of 14 minutes!\n",
      "Slayers album Haunting the Chapel had a duration of 13 minutes!\n",
      "Slayers album Seasons in the Abyss had a duration of 12 minutes!\n",
      "Slayers album God Send Death had a duration of 11 minutes!\n",
      "Slayers album Til Def Us Do Part had a duration of 10 minutes!\n",
      "Slayers album Stain of Mind had a duration of 10 minutes!\n",
      "Slayers album Live Intrusion had a duration of 10 minutes!\n",
      "Slayers album Music, the Natural Choice: Spread the Jam #16 had a duration of 10 minutes!\n",
      "Slayers album Metal Blade Records: 20th Anniversary had a duration of 9 minutes!\n",
      "Slayers album The First Crusade had a duration of 9 minutes!\n",
      "Slayers album Tattoo the Earth: The First Crusade had a duration of 9 minutes!\n",
      "Slayers album World Painted Blood / Atrocity Vendor had a duration of 8 minutes!\n",
      "Slayers album Metal Blade Records: The First Decade had a duration of 7 minutes!\n",
      "Slayers album Heavy Hammer Hits II/90 had a duration of 6 minutes!\n",
      "Slayers album Hard Music, Volume 1 had a duration of 6 minutes!\n",
      "Slayers album Metal Meltdown had a duration of 6 minutes!\n",
      "Slayers album Eyes of the Insane had a duration of 6 minutes!\n",
      "Slayers album Now That's What I Call Metal had a duration of 6 minutes!\n",
      "Slayers album Giants of Rock: The Metal Decade, Volume 3: 1984-85 had a duration of 6 minutes!\n",
      "Slayers album Metal Blade Records: 20th Anniversary had a duration of 6 minutes!\n",
      "Slayers album Nativity in Black II: A Tribute to Black Sabbath had a duration of 5 minutes!\n",
      "Slayers album Ozzfest: Second Stage Live had a duration of 5 minutes!\n",
      "Slayers album Ozzfest 1996 had a duration of 5 minutes!\n",
      "Slayers album Ready to Rock had a duration of 5 minutes!\n",
      "Slayers album The Best of Metal Blade, Volume 2 had a duration of 4 minutes!\n",
      "Slayers album The Metal Museum, Volume 8: Thrash Metal had a duration of 4 minutes!\n",
      "Slayers album WCW Mayhem: The Music had a duration of 4 minutes!\n",
      "Slayers album CMJ 500 had a duration of 4 minutes!\n",
      "Slayers album Judgment Night had a duration of 4 minutes!\n",
      "Slayers album The Metal Hammer Golden Gods 2004: The Album had a duration of 4 minutes!\n",
      "Slayers album Kerrang! The Album had a duration of 4 minutes!\n",
      "Slayers album 40 Greatest Metal Songs had a duration of 4 minutes!\n",
      "Slayers album Punisher: War Zone had a duration of 4 minutes!\n",
      "Slayers album Jager Music Rarities 2004 had a duration of 4 minutes!\n",
      "Slayers album Spawn: The Album had a duration of 4 minutes!\n",
      "Slayers album In Your Ear 9 had a duration of 4 minutes!\n",
      "Slayers album Rock Hard - Judgment Day had a duration of 4 minutes!\n",
      "Slayers album Mandatory Suicide had a duration of 4 minutes!\n",
      "Slayers album Metal Hammer: January 2005 (Razor, Volume 11) had a duration of 4 minutes!\n",
      "Slayers album Bride of Chucky had a duration of 4 minutes!\n",
      "Slayers album VISIONS: The New, the Classic and the Unexplored, Volume Three had a duration of 4 minutes!\n",
      "Slayers album Eternal Pyre had a duration of 4 minutes!\n",
      "Slayers album Grand Theft Auto: Vice City, Volume 1: V-Rock had a duration of 4 minutes!\n",
      "Slayers album Jackass: The Movie had a duration of 4 minutes!\n",
      "Slayers album Metal Hammer #168: Metal Blade: Los Angeles had a duration of 4 minutes!\n",
      "Slayers album JägerMusic: Rarities 2004 had a duration of 4 minutes!\n",
      "Slayers album Kerrang! 1998 had a duration of 4 minutes!\n",
      "Slayers album Kerrang! Awards 2006 had a duration of 4 minutes!\n",
      "Slayers album Grand Theft Auto: Vice City - V-ROCK had a duration of 4 minutes!\n",
      "Slayers album The Best of Metal Blade, Volume 3 had a duration of 4 minutes!\n",
      "Slayers album Til Def Us Do Part II had a duration of 4 minutes!\n",
      "Slayers album Jackass Number Two (Explicit version) had a duration of 4 minutes!\n",
      "Slayers album The Heavy Metal Box had a duration of 4 minutes!\n",
      "Slayers album Metalopolis, Volume 1 had a duration of 4 minutes!\n",
      "Slayers album Calling All Maniacs had a duration of 3 minutes!\n",
      "Slayers album CMJ New Music Monthly, Volume 60: August 1998 had a duration of 3 minutes!\n",
      "Slayers album Restless Records Catalog Sampler had a duration of 3 minutes!\n",
      "Slayers album Less Than Zero had a duration of 3 minutes!\n",
      "Slayers album Thrash Metal had a duration of 3 minutes!\n",
      "Slayers album Giants of Rock: The Metal Decade, Volume 2: 1982-83 had a duration of 3 minutes!\n",
      "Slayers album Kerrang! Summer Slam had a duration of 3 minutes!\n",
      "Slayers album Monitor This had a duration of 3 minutes!\n",
      "Slayers album Metal Hammer: Hammered, Volume 2 had a duration of 3 minutes!\n",
      "Slayers album NASCAR: Crank It Up had a duration of 3 minutes!\n",
      "Slayers album Metal: A Headbanger's Journey had a duration of 3 minutes!\n",
      "Slayers album Speed Metal had a duration of 3 minutes!\n",
      "Slayers album Diabolus in Musica Tour Sampler had a duration of 3 minutes!\n",
      "Slayers album The Pledge of Allegiance: 2001 Sampler had a duration of 3 minutes!\n",
      "Slayers album Metal Hammer: July 2001 had a duration of 3 minutes!\n",
      "Slayers album Duke Nukem: Music to Score By had a duration of 3 minutes!\n",
      "Slayers album Rock Phenomenon: Hip-Hop vs. Rock Mash-Ups had a duration of 3 minutes!\n",
      "Slayers album Saw III had a duration of 3 minutes!\n",
      "Slayers album Hard N' Heavy, Volume 9 had a duration of 3 minutes!\n",
      "Slayers album Metal Massacre, Volume 3 had a duration of 3 minutes!\n",
      "Slayers album The Ozzfest '98 had a duration of 3 minutes!\n",
      "Slayers album Metal Hammer #184: The Unholy Alliance Chapter III had a duration of 3 minutes!\n",
      "Slayers album MTV2 Headbangers Ball had a duration of 3 minutes!\n",
      "Slayers album Jagermusic had a duration of 3 minutes!\n",
      "Slayers album Zoo Magazine CD Sampler 15 had a duration of 3 minutes!\n",
      "Slayers album Dracula 2000 had a duration of 3 minutes!\n",
      "Slayers album Stars on Thrash had a duration of 2 minutes!\n",
      "Slayers album Soulfood, Volume 2: Lyriks had a duration of 2 minutes!\n",
      "Slayers album Hate Worldwide had a duration of 2 minutes!\n",
      "Slayers album Ultimate Beatdowns, Volume 1 had a duration of 2 minutes!\n",
      "Slayers album Shut Up and Play: Forgettable Moments on Stage (WFMU Marathon Premium) had a duration of 1 minutes!\n"
     ]
    }
   ],
   "source": [
    "\n",
    "#query = \"SELECT ?album_title WHERE { ?album_title ?duration ?example } LIMIT 1\"\n",
    "sparql.setQuery(query)\n",
    "try:\n",
    "    result = sparql.query()\n",
    "\n",
    "    #for var_binding in result[u\"album_title\"]:\n",
    "    #    print(\"Album %s\" % var_binding[u\"album_title\"].value)\n",
    "    \n",
    "    for var_binding in result[u\"title\", u\"duration\", u\"example\"]:\n",
    "        t, d, e = var_binding[u\"title\"].value, var_binding[u\"duration\"].value, var_binding[u\"example\"].value\n",
    "        print(\"Slayers album %s had a duration of %s minutes!\" % (t, d))\n",
    "        \n",
    "except Exception:\n",
    "    print(\"Could not query!\")"
   ]
  },
  {
   "cell_type": "code",
   "execution_count": null,
   "metadata": {
    "collapsed": true
   },
   "outputs": [],
   "source": []
  }
 ],
 "metadata": {
  "kernelspec": {
   "display_name": "Python 2",
   "language": "python",
   "name": "python2"
  },
  "language_info": {
   "codemirror_mode": {
    "name": "ipython",
    "version": 2
   },
   "file_extension": ".py",
   "mimetype": "text/x-python",
   "name": "python",
   "nbconvert_exporter": "python",
   "pygments_lexer": "ipython2",
   "version": "2.7.6"
  }
 },
 "nbformat": 4,
 "nbformat_minor": 0
}
